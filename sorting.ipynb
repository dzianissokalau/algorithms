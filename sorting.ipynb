{
 "cells": [
  {
   "cell_type": "markdown",
   "metadata": {},
   "source": [
    "# Sorting algorithms"
   ]
  },
  {
   "cell_type": "markdown",
   "metadata": {},
   "source": [
    "### Insertion sort  \n",
    "Worst-case performance: O(n^2) - when array is reversed  \n",
    "Best-case performance: O(n) - when array is already sorted\n",
    "_________\n",
    "https://en.wikipedia.org/wiki/Insertion_sort  \n",
    "https://www.toptal.com/developers/sorting-algorithms/insertion-sort  "
   ]
  },
  {
   "cell_type": "code",
   "execution_count": 11,
   "metadata": {},
   "outputs": [],
   "source": [
    "def insertion_sort(array):\n",
    "    # return array if it contains only one element\n",
    "    if len(array) == 1:\n",
    "        return array\n",
    "    \n",
    "    for j in range(1, len(array)):\n",
    "        # store element\n",
    "        key = array[j]\n",
    "        \n",
    "        # get index for previous element\n",
    "        i = j - 1\n",
    "        \n",
    "        # move i element right if it's greater then j element (key)\n",
    "        # repeat as long as left element exists\n",
    "        while array[i] > key and i >= 0:\n",
    "            array[i + 1] = array[i]\n",
    "            i -= 1\n",
    "            \n",
    "        array[i + 1] = key\n",
    "        \n",
    "    return array"
   ]
  },
  {
   "cell_type": "markdown",
   "metadata": {},
   "source": [
    "## Average running time vs array length"
   ]
  },
  {
   "cell_type": "code",
   "execution_count": 16,
   "metadata": {},
   "outputs": [],
   "source": [
    "import numpy as np\n",
    "import time\n",
    "import matplotlib.pyplot as plt"
   ]
  },
  {
   "cell_type": "code",
   "execution_count": 83,
   "metadata": {},
   "outputs": [],
   "source": [
    "def time_vs_len(sorting_algorithm):    \n",
    "    \n",
    "    \n",
    "    # define list to store time\n",
    "    times = np.array([])\n",
    "    lengths = np.array([])\n",
    "    \n",
    "    l = 2\n",
    "    while l < 1000:\n",
    "        # define average time\n",
    "        avg_time = 0\n",
    "        \n",
    "        for i in range(10):\n",
    "            # create array to run algorithm on\n",
    "            array = np.random.randint(low=0, high=100000, size=l)\n",
    "\n",
    "            t1 = time.time()\n",
    "            sorting_algorithm(array)\n",
    "            t2 = time.time()\n",
    "            \n",
    "            avg_time += (t2 - t1) / 10\n",
    "        \n",
    "        times = np.append(times, avg_time)\n",
    "        lengths = np.append(lengths, l)\n",
    "        \n",
    "        # update l\n",
    "        l += 20\n",
    "            \n",
    "    return (lengths, times)"
   ]
  },
  {
   "cell_type": "code",
   "execution_count": 84,
   "metadata": {},
   "outputs": [],
   "source": [
    "lengths, times = time_vs_len(insertion_sort)"
   ]
  },
  {
   "cell_type": "code",
   "execution_count": 85,
   "metadata": {},
   "outputs": [
    {
     "data": {
      "text/plain": [
       "[<matplotlib.lines.Line2D at 0x1292334c0>]"
      ]
     },
     "execution_count": 85,
     "metadata": {},
     "output_type": "execute_result"
    },
    {
     "data": {
      "image/png": "[encoded data removed]",
      "text/plain": [
       "<Figure size 432x288 with 1 Axes>"
      ]
     },
     "metadata": {
      "needs_background": "light"
     },
     "output_type": "display_data"
    }
   ],
   "source": [
    "plt.plot(lengths, times)"
   ]
  },
  {
   "cell_type": "code",
   "execution_count": null,
   "metadata": {},
   "outputs": [],
   "source": []
  }
 ],
 "metadata": {
  "kernelspec": {
   "display_name": "Python 3",
   "language": "python",
   "name": "python3"
  },
  "language_info": {
   "codemirror_mode": {
    "name": "ipython",
    "version": 3
   },
   "file_extension": ".py",
   "mimetype": "text/x-python",
   "name": "python",
   "nbconvert_exporter": "python",
   "pygments_lexer": "ipython3",
   "version": "3.8.2"
  }
 },
 "nbformat": 4,
 "nbformat_minor": 4
}
