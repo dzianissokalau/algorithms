{
 "cells": [
  {
   "cell_type": "markdown",
   "metadata": {},
   "source": [
    "# Sorting algorithms"
   ]
  },
  {
   "cell_type": "markdown",
   "metadata": {},
   "source": [
    "### Time vs Array length  \n",
    "In order to be able to visualize how much time an algorithm requires on different array lengths, let's create a function."
   ]
  },
  {
   "cell_type": "code",
   "execution_count": 22,
   "metadata": {},
   "outputs": [],
   "source": [
    "import numpy as np\n",
    "import time\n",
    "import matplotlib.pyplot as plt\n",
    "\n",
    "def time_vs_len(sorting_algorithm):    \n",
    "    # define list to store time\n",
    "    times = np.array([])\n",
    "    lengths = np.array([])\n",
    "    \n",
    "    l = 2\n",
    "    while l < 1000:\n",
    "        # define average time\n",
    "        avg_time = 0\n",
    "        \n",
    "        for i in range(10):\n",
    "            # create array to run algorithm on\n",
    "            array = np.random.randint(low=0, high=100000, size=l)\n",
    "\n",
    "            t1 = time.time()\n",
    "            sorting_algorithm(array)\n",
    "            t2 = time.time()\n",
    "            \n",
    "            avg_time += (t2 - t1) / 10\n",
    "        \n",
    "        times = np.append(times, avg_time)\n",
    "        lengths = np.append(lengths, l)\n",
    "        \n",
    "        # update l\n",
    "        l += 20\n",
    "            \n",
    "    return (lengths, times)"
   ]
  },
  {
   "cell_type": "markdown",
   "metadata": {},
   "source": [
    "### Insertion sort  \n",
    "Worst-case performance: O(n^2) - when array is reversed  \n",
    "Best-case performance: O(n) - when array is already sorted\n",
    "_________\n",
    "https://en.wikipedia.org/wiki/Insertion_sort  \n",
    "https://www.toptal.com/developers/sorting-algorithms/insertion-sort  "
   ]
  },
  {
   "cell_type": "code",
   "execution_count": 24,
   "metadata": {},
   "outputs": [],
   "source": [
    "def insertion_sort(array):\n",
    "    # break if it contains only one element\n",
    "    if len(array) > 1:\n",
    "    \n",
    "        for j in range(1, len(array)):\n",
    "            # store element\n",
    "            key = array[j]\n",
    "\n",
    "            # get index for previous element\n",
    "            i = j - 1\n",
    "\n",
    "            # move i element right if it's greater then j element (key)\n",
    "            # repeat as long as left element exists\n",
    "            while array[i] > key and i >= 0:\n",
    "                array[i + 1] = array[i]\n",
    "                i -= 1\n",
    "\n",
    "            array[i + 1] = key"
   ]
  },
  {
   "cell_type": "code",
   "execution_count": 28,
   "metadata": {},
   "outputs": [
    {
     "data": {
      "image/png": "[encoded data removed]",
      "text/plain": [
       "<Figure size 432x288 with 1 Axes>"
      ]
     },
     "metadata": {
      "needs_background": "light"
     },
     "output_type": "display_data"
    }
   ],
   "source": [
    "l_insertion, t_insertion = time_vs_len(insertion_sort)\n",
    "\n",
    "plt.plot(l_insertion, t_insertion, c='blue')\n",
    "plt.xlabel('length')\n",
    "plt.ylabel('time')\n",
    "plt.title('Insertion Sort', loc='left', fontsize=14);"
   ]
  },
  {
   "cell_type": "markdown",
   "metadata": {},
   "source": [
    "### Selection sort  \n",
    "Worst-case performance: O(n^2)  \n",
    "Best-case performance: O(n^2)\n",
    "_________\n",
    "https://en.wikipedia.org/wiki/Selection_sort  \n",
    "https://www.toptal.com/developers/sorting-algorithms/selection-sort"
   ]
  },
  {
   "cell_type": "code",
   "execution_count": 16,
   "metadata": {},
   "outputs": [],
   "source": [
    "def selection_sort(array):\n",
    "    # store len of the array as a variable, as we need to call it at least j times (running second for loop)\n",
    "    array_len = len(array)\n",
    "\n",
    "    # break if it contains only one element\n",
    "    if len(array) > 1:\n",
    "\n",
    "        for j in range(array_len):\n",
    "            min_i = j\n",
    "\n",
    "            for i in range(j + 1, array_len):\n",
    "                # check all following elements and update min_i when array[i] is smaller than aaray[j]\n",
    "                if array[i] < array[min_i]:\n",
    "                    min_i = i\n",
    "\n",
    "            # swap j and min_i elements\n",
    "            array[j], array[min_i] = array[min_i], array[j]"
   ]
  },
  {
   "cell_type": "code",
   "execution_count": 27,
   "metadata": {},
   "outputs": [
    {
     "data": {
      "image/png": "[encoded data removed]",
      "text/plain": [
       "<Figure size 432x288 with 1 Axes>"
      ]
     },
     "metadata": {
      "needs_background": "light"
     },
     "output_type": "display_data"
    }
   ],
   "source": [
    "l_selection, t_selection = time_vs_len(selection_sort)\n",
    "\n",
    "plt.plot(l_selection, t_selection, c='grey')\n",
    "plt.xlabel('length')\n",
    "plt.ylabel('time')\n",
    "plt.title('Selection Sort', loc='left', fontsize=14);"
   ]
  },
  {
   "cell_type": "markdown",
   "metadata": {},
   "source": [
    "### Bubble sort  \n",
    "Worst-case performance: O(n^2)  \n",
    "Best-case performance: O(n)\n",
    "_________\n",
    "https://en.wikipedia.org/wiki/Bubble_sort   \n",
    "https://www.toptal.com/developers/sorting-algorithms/bubble-sort"
   ]
  },
  {
   "cell_type": "code",
   "execution_count": 47,
   "metadata": {},
   "outputs": [],
   "source": [
    "def bubble_sort(array):\n",
    "    # store len of the array as a variable, as we need to call it at least j times (running second for loop)\n",
    "    array_len = len(array)\n",
    "\n",
    "    # return array if it contains only one element\n",
    "    if len(array) > 1:\n",
    "  \n",
    "        # repeat n times = array_len\n",
    "        for j in range(array_len):\n",
    "            swaps = False\n",
    "\n",
    "            # check all elements except already checked\n",
    "            for i in range(array_len - j - 1):\n",
    "\n",
    "                # swap elements if left element if bigger than the right one\n",
    "                if array[i] > array[i + 1] :\n",
    "                    array[i], array[i + 1] = array[i + 1], array[i]\n",
    "                    swaps = True\n",
    "\n",
    "            # break if no swaps during whole inner loop\n",
    "            if swaps == False:\n",
    "                break"
   ]
  },
  {
   "cell_type": "code",
   "execution_count": 52,
   "metadata": {},
   "outputs": [
    {
     "data": {
      "image/png": "[encoded data removed]",
      "text/plain": [
       "<Figure size 432x288 with 1 Axes>"
      ]
     },
     "metadata": {
      "needs_background": "light"
     },
     "output_type": "display_data"
    }
   ],
   "source": [
    "l_bubble, t_bubble = time_vs_len(bubble_sort)\n",
    "\n",
    "plt.plot(l_bubble, t_bubble, c='pink')\n",
    "plt.xlabel('length')\n",
    "plt.ylabel('time')\n",
    "plt.title('Bubble Sort', loc='left', fontsize=14);"
   ]
  },
  {
   "cell_type": "markdown",
   "metadata": {},
   "source": [
    "### Shell sort  \n",
    "Worst-case performance: O(n^2)  \n",
    "Best-case performance: O(n log n)\n",
    "_________\n",
    "https://en.wikipedia.org/wiki/Shellsort   \n",
    "https://www.toptal.com/developers/sorting-algorithms/shell-sort  \n",
    "# TBD"
   ]
  },
  {
   "cell_type": "markdown",
   "metadata": {},
   "source": [
    "### Heap sort  \n",
    "Worst-case performance: O(n log n)  \n",
    "Best-case performance: O(n log n)\n",
    "_________\n",
    "https://en.wikipedia.org/wiki/Heapsort   \n",
    "https://www.toptal.com/developers/sorting-algorithms/heap-sort  \n",
    "# TBD"
   ]
  },
  {
   "cell_type": "markdown",
   "metadata": {},
   "source": [
    "### Quick sort  \n",
    "Worst-case performance: O(n^2)  \n",
    "Best-case performance: O(n log n)\n",
    "_________\n",
    "https://en.wikipedia.org/wiki/Quicksort   \n",
    "https://www.toptal.com/developers/sorting-algorithms/quick-sort  \n",
    "# TBD"
   ]
  },
  {
   "cell_type": "markdown",
   "metadata": {},
   "source": [
    "### Merge sort  \n",
    "Worst-case performance: O(n log n)  \n",
    "Best-case performance: O(n log n)\n",
    "_________\n",
    "https://en.wikipedia.org/wiki/Merge_sort   \n",
    "https://www.toptal.com/developers/sorting-algorithms/merge-sort  \n",
    "# TBD"
   ]
  }
 ],
 "metadata": {
  "kernelspec": {
   "display_name": "Python 3",
   "language": "python",
   "name": "python3"
  },
  "language_info": {
   "codemirror_mode": {
    "name": "ipython",
    "version": 3
   },
   "file_extension": ".py",
   "mimetype": "text/x-python",
   "name": "python",
   "nbconvert_exporter": "python",
   "pygments_lexer": "ipython3",
   "version": "3.8.2"
  }
 },
 "nbformat": 4,
 "nbformat_minor": 4
}
